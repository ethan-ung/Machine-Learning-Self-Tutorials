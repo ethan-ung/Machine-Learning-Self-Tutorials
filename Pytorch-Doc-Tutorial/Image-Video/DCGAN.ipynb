{
 "cells": [
  {
   "cell_type": "code",
   "execution_count": 4,
   "id": "5d1fed7d-8978-4d23-a3fb-1cd3d6bc6646",
   "metadata": {},
   "outputs": [
    {
     "name": "stdout",
     "output_type": "stream",
     "text": [
      "DCGAN Seed:  65536\n"
     ]
    }
   ],
   "source": [
    "import argparse\n",
    "import os\n",
    "import random\n",
    "import torch\n",
    "import torch.nn as nn\n",
    "import torch.nn.parallel\n",
    "import torch.optim as optim\n",
    "import torch.utils.data\n",
    "import torchvision.datasets as dset\n",
    "import torchvision.transforms as vutils\n",
    "import numpy as np\n",
    "import matplotlib.pyplot as plt\n",
    "import matplotlib.animation as animation\n",
    "from IPython.display import HTML\n",
    "\n",
    "# Set a seed for reproducibility\n",
    "manualSeed = 65536\n",
    "#manualSeed = random.randInt(1, 999999999) <--- For new results\n",
    "print(\"DCGAN Seed: \", manualSeed)\n",
    "random.seed(manualSeed)\n",
    "torch.manual_seed(manualSeed)\n",
    "torch.use_deterministic_algorithms(True) # For reproducible results"
   ]
  },
  {
   "cell_type": "code",
   "execution_count": 5,
   "id": "370429ce",
   "metadata": {},
   "outputs": [],
   "source": [
    "# Root directory\n",
    "dataroot = \"data/celeba\"\n",
    "# Number of workers for dataloader\n",
    "workers = 2\n",
    "# Training batch size\n",
    "batch_size = 128\n",
    "# Spatial size of training images. All must be resized using transformer.\n",
    "image_size = 64\n",
    "# Number of channels in training images. 3 = color.\n",
    "nc = 3\n",
    "# Size of feature maps in generator\n",
    "ngf = 64\n",
    "# Size of feature maps in discriminator\n",
    "ndf = 64\n",
    "# Number of epochs\n",
    "num_epochs = 5\n",
    "# Beta1 hyperparameter for Adam optimizers\n",
    "beta1 = 0.5\n",
    "# Number of GPUs available. Use 0 for CPU mode.\n",
    "ngpu = 1"
   ]
  },
  {
   "cell_type": "code",
   "execution_count": null,
   "id": "81469896",
   "metadata": {},
   "outputs": [],
   "source": []
  }
 ],
 "metadata": {
  "kernelspec": {
   "display_name": "Python 3 (ipykernel)",
   "language": "python",
   "name": "python3"
  },
  "language_info": {
   "codemirror_mode": {
    "name": "ipython",
    "version": 3
   },
   "file_extension": ".py",
   "mimetype": "text/x-python",
   "name": "python",
   "nbconvert_exporter": "python",
   "pygments_lexer": "ipython3",
   "version": "3.11.7"
  }
 },
 "nbformat": 4,
 "nbformat_minor": 5
}
